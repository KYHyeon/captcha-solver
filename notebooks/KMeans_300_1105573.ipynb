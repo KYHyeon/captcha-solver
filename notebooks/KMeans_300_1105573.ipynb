{
 "cells": [
  {
   "cell_type": "code",
   "execution_count": 1,
   "metadata": {},
   "outputs": [
    {
     "name": "stderr",
     "output_type": "stream",
     "text": [
      "/home/cilab/.local/lib/python3.6/site-packages/numpy/lib/arraysetops.py:569: FutureWarning: elementwise comparison failed; returning scalar instead, but in the future will perform elementwise comparison\n",
      "  mask |= (ar1 == a)\n"
     ]
    }
   ],
   "source": [
    "%matplotlib inline\n",
    "import pandas as pd\n",
    "import cv2\n",
    "import numpy as np\n",
    "from matplotlib import pyplot as plt\n",
    "\n",
    "df = pd.read_csv(\"data/1105573_SELECT_t___FROM_data_data_t.csv\",header=None,index_col=0)\n",
    "df = df.rename(columns={0:\"no\", 1: \"CAPTDATA\", 2: \"CAPTIMAGE\",3: \"timestamp\"})"
   ]
  },
  {
   "cell_type": "code",
   "execution_count": 2,
   "metadata": {
    "scrolled": true
   },
   "outputs": [
    {
     "name": "stdout",
     "output_type": "stream",
     "text": [
      "<class 'pandas.core.frame.DataFrame'>\n",
      "Int64Index: 1105573 entries, 1 to 1105588\n",
      "Data columns (total 3 columns):\n",
      "CAPTDATA     1105573 non-null object\n",
      "CAPTIMAGE    1105573 non-null object\n",
      "timestamp    1105573 non-null object\n",
      "dtypes: object(3)\n",
      "memory usage: 33.7+ MB\n",
      "CPU times: user 207 ms, sys: 220 µs, total: 207 ms\n",
      "Wall time: 204 ms\n"
     ]
    }
   ],
   "source": [
    "%%time\n",
    "df.info()"
   ]
  },
  {
   "cell_type": "code",
   "execution_count": 3,
   "metadata": {},
   "outputs": [
    {
     "data": {
      "text/html": [
       "<div>\n",
       "<style scoped>\n",
       "    .dataframe tbody tr th:only-of-type {\n",
       "        vertical-align: middle;\n",
       "    }\n",
       "\n",
       "    .dataframe tbody tr th {\n",
       "        vertical-align: top;\n",
       "    }\n",
       "\n",
       "    .dataframe thead th {\n",
       "        text-align: right;\n",
       "    }\n",
       "</style>\n",
       "<table border=\"1\" class=\"dataframe\">\n",
       "  <thead>\n",
       "    <tr style=\"text-align: right;\">\n",
       "      <th></th>\n",
       "      <th>CAPTDATA</th>\n",
       "      <th>CAPTIMAGE</th>\n",
       "      <th>timestamp</th>\n",
       "    </tr>\n",
       "    <tr>\n",
       "      <th>0</th>\n",
       "      <th></th>\n",
       "      <th></th>\n",
       "      <th></th>\n",
       "    </tr>\n",
       "  </thead>\n",
       "  <tbody>\n",
       "    <tr>\n",
       "      <td>482201</td>\n",
       "      <td>SbXgCCvsAhRod0graaUo3w==</td>\n",
       "      <td>0x89504E470D0A1A0A0000000D49484452000001180000...</td>\n",
       "      <td>2019-11-04 09:31:36</td>\n",
       "    </tr>\n",
       "    <tr>\n",
       "      <td>486109</td>\n",
       "      <td>lqjXKsMNfaIY1QvDp8zuSQ==</td>\n",
       "      <td>0x89504E470D0A1A0A0000000D49484452000001180000...</td>\n",
       "      <td>2019-11-04 09:40:00</td>\n",
       "    </tr>\n",
       "    <tr>\n",
       "      <td>24706</td>\n",
       "      <td>zejO4cpgQ+2rWl8xfV5D5Q==</td>\n",
       "      <td>0x89504E470D0A1A0A0000000D49484452000001180000...</td>\n",
       "      <td>2019-11-03 17:02:25</td>\n",
       "    </tr>\n",
       "    <tr>\n",
       "      <td>330897</td>\n",
       "      <td>JXB+V74q0EEpoL3GWN4Csg==</td>\n",
       "      <td>0x89504E470D0A1A0A0000000D49484452000001180000...</td>\n",
       "      <td>2019-11-04 04:04:09</td>\n",
       "    </tr>\n",
       "    <tr>\n",
       "      <td>488358</td>\n",
       "      <td>GOwDZjHTl7XKzazcX3G2KQ==</td>\n",
       "      <td>0x89504E470D0A1A0A0000000D49484452000001180000...</td>\n",
       "      <td>2019-11-04 09:44:56</td>\n",
       "    </tr>\n",
       "  </tbody>\n",
       "</table>\n",
       "</div>"
      ],
      "text/plain": [
       "                        CAPTDATA  \\\n",
       "0                                  \n",
       "482201  SbXgCCvsAhRod0graaUo3w==   \n",
       "486109  lqjXKsMNfaIY1QvDp8zuSQ==   \n",
       "24706   zejO4cpgQ+2rWl8xfV5D5Q==   \n",
       "330897  JXB+V74q0EEpoL3GWN4Csg==   \n",
       "488358  GOwDZjHTl7XKzazcX3G2KQ==   \n",
       "\n",
       "                                                CAPTIMAGE            timestamp  \n",
       "0                                                                               \n",
       "482201  0x89504E470D0A1A0A0000000D49484452000001180000...  2019-11-04 09:31:36  \n",
       "486109  0x89504E470D0A1A0A0000000D49484452000001180000...  2019-11-04 09:40:00  \n",
       "24706   0x89504E470D0A1A0A0000000D49484452000001180000...  2019-11-03 17:02:25  \n",
       "330897  0x89504E470D0A1A0A0000000D49484452000001180000...  2019-11-04 04:04:09  \n",
       "488358  0x89504E470D0A1A0A0000000D49484452000001180000...  2019-11-04 09:44:56  "
      ]
     },
     "execution_count": 3,
     "metadata": {},
     "output_type": "execute_result"
    }
   ],
   "source": [
    "df.sample(5)"
   ]
  },
  {
   "cell_type": "code",
   "execution_count": 4,
   "metadata": {},
   "outputs": [],
   "source": [
    "def alpha_to_gray(img):\n",
    "    alpha_channel = img[:, :, 3]\n",
    "    _, mask = cv2.threshold(alpha_channel, 128, 255, cv2.THRESH_BINARY)  # binarize mask\n",
    "    color = img[:, :, :3]\n",
    "    img = cv2.bitwise_not(cv2.bitwise_not(color, mask=mask))\n",
    "    return cv2.cvtColor(img, cv2.COLOR_BGR2GRAY)"
   ]
  },
  {
   "cell_type": "code",
   "execution_count": 5,
   "metadata": {},
   "outputs": [],
   "source": [
    "def preprocess(data):\n",
    "    data = bytes.fromhex(data[2:])\n",
    "    img = cv2.imdecode( np.asarray(bytearray(data), dtype=np.uint8), cv2.IMREAD_UNCHANGED )\n",
    "    img = alpha_to_gray(img)\n",
    "    kernel = np.ones((3, 3), np.uint8)\n",
    "    img = cv2.dilate(img, kernel, iterations=1)\n",
    "    img = cv2.medianBlur(img, 3)\n",
    "    kernel = np.ones((4, 4), np.uint8)\n",
    "    img = cv2.erode(img, kernel, iterations=1)\n",
    "#     plt.imshow(img)\n",
    "    return img"
   ]
  },
  {
   "cell_type": "code",
   "execution_count": null,
   "metadata": {},
   "outputs": [],
   "source": [
    "df[\"IMAGE\"] = df[\"CAPTIMAGE\"].apply(preprocess)"
   ]
  },
  {
   "cell_type": "code",
   "execution_count": null,
   "metadata": {},
   "outputs": [],
   "source": [
    "def bounding(gray):\n",
    "#     data = bytes.fromhex(df[\"CAPTIMAGE\"][1][2:])\n",
    "#     image = cv2.imdecode( np.asarray(bytearray(data), dtype=np.uint8), cv2.IMREAD_UNCHANGED )\n",
    "\n",
    "#     alpha_channel = image[:, :, 3]\n",
    "#     _, mask = cv2.threshold(alpha_channel, 128, 255, cv2.THRESH_BINARY)  # binarize mask\n",
    "#     color = image[:, :, :3]\n",
    "#     src = cv2.bitwise_not(cv2.bitwise_not(color, mask=mask))\n",
    "\n",
    "    ret, binary = cv2.threshold(gray, 127, 255, cv2.THRESH_BINARY)\n",
    "    binary = cv2.bitwise_not(binary)\n",
    "\n",
    "    contours, hierachy = cv2.findContours(binary, cv2.RETR_EXTERNAL , cv2.CHAIN_APPROX_NONE)\n",
    "\n",
    "    ans = []\n",
    "    for h, tcnt in enumerate(contours):\n",
    "        x,y,w,h = cv2.boundingRect(tcnt)\n",
    "        if h < 20:\n",
    "            continue\n",
    "        if 50 < w < 100: # 2개가 붙어 있는 경우\n",
    "            ans.append([x,y,w//2+5,h])\n",
    "            ans.append([x+(w//2)-5,y,w//2+5,h])\n",
    "            continue\n",
    "#         cv2.rectangle(src,(x,y),(x+w,y+h),(255,0,0),1)\n",
    "        ans.append([x,y,w,h])\n",
    "    return ans\n",
    "    # cv2.destroyAllWindows()"
   ]
  },
  {
   "cell_type": "code",
   "execution_count": null,
   "metadata": {},
   "outputs": [],
   "source": [
    "df[\"bounding\"] = df[\"IMAGE\"].apply(bounding)"
   ]
  },
  {
   "cell_type": "code",
   "execution_count": null,
   "metadata": {},
   "outputs": [],
   "source": [
    "def draw_bounding(idx):\n",
    "    CAPTIMAGE = df[\"CAPTIMAGE\"][idx]\n",
    "    bounding = df[\"bounding\"][idx]\n",
    "    \n",
    "    data = bytes.fromhex(CAPTIMAGE[2:])\n",
    "    image = cv2.imdecode( np.asarray(bytearray(data), dtype=np.uint8), cv2.IMREAD_UNCHANGED )\n",
    "\n",
    "    alpha_channel = image[:, :, 3]\n",
    "    _, mask = cv2.threshold(alpha_channel, 128, 255, cv2.THRESH_BINARY)  # binarize mask\n",
    "    color = image[:, :, :3]\n",
    "    src = cv2.bitwise_not(cv2.bitwise_not(color, mask=mask))\n",
    "\n",
    "    for x,y,w,h in bounding:\n",
    "#         print(x,y,w,h)\n",
    "        cv2.rectangle(src,(x,y),(x+w,y+h),(255,0,0),1)\n",
    "    return src"
   ]
  },
  {
   "cell_type": "code",
   "execution_count": null,
   "metadata": {},
   "outputs": [],
   "source": [
    "import random\n",
    "\n",
    "nrows = 4\n",
    "ncols = 4\n",
    "fig, axes = plt.subplots(nrows=nrows, ncols=ncols)\n",
    "fig.set_size_inches((16, 6)) \n",
    "for i in range(nrows):\n",
    "    for j in range(ncols):\n",
    "        idx = random.randrange(20,22800)\n",
    "        axes[i][j].set_title(str(idx))\n",
    "        axes[i][j].imshow(draw_bounding(idx))\n",
    "fig.tight_layout()\n",
    "plt.savefig('sample.png')\n",
    "plt.show()"
   ]
  },
  {
   "cell_type": "code",
   "execution_count": null,
   "metadata": {},
   "outputs": [],
   "source": [
    "charImg = []\n",
    "for idx in df.index:\n",
    "    IMAGE = df[\"IMAGE\"][idx]\n",
    "    bounding = df[\"bounding\"][idx]\n",
    "    \n",
    "    for x,y,w,h in bounding:\n",
    "        newImg = IMAGE[y:y+h,x:x+w]\n",
    "        newImg = cv2.resize(newImg, dsize=(41, 38), interpolation=cv2.INTER_NEAREST)\n",
    "        charImg.append(newImg/255.0)\n"
   ]
  },
  {
   "cell_type": "code",
   "execution_count": null,
   "metadata": {},
   "outputs": [],
   "source": [
    "# cast to numpy arrays\n",
    "trainingImages = np.asarray(charImg)\n",
    "\n",
    "# reshape img array to vector\n",
    "def reshape_image(img):\n",
    "    return np.reshape(img,len(img)*len(img[0]))\n",
    "\n",
    "img_reshape = np.zeros((len(trainingImages),len(trainingImages[0])*len(trainingImages[0][0])))\n",
    "\n",
    "for i in range(0,len(trainingImages)):\n",
    "    img_reshape[i] = reshape_image(trainingImages[i])"
   ]
  },
  {
   "cell_type": "code",
   "execution_count": null,
   "metadata": {},
   "outputs": [],
   "source": [
    "%%time\n",
    "from sklearn.cluster import KMeans\n",
    "\n",
    "import matplotlib.pyplot  as plt\n",
    "\n",
    "import seaborn as sns\n",
    "\n",
    "\n",
    "\n",
    "# create model and prediction\n",
    "\n",
    "model = KMeans(n_clusters=300,algorithm='auto')\n",
    "\n",
    "model.fit(img_reshape)\n",
    "\n",
    "predict = pd.DataFrame(model.predict(img_reshape))\n",
    "\n",
    "predict.columns=['predict']"
   ]
  },
  {
   "cell_type": "code",
   "execution_count": null,
   "metadata": {},
   "outputs": [],
   "source": [
    "import pickle\n",
    "pickle.dump(model, open(\"KMeans_300_1105573.pkl\", \"wb\"))"
   ]
  },
  {
   "cell_type": "code",
   "execution_count": null,
   "metadata": {},
   "outputs": [],
   "source": [
    "%%time\n",
    "import random\n",
    "\n",
    "r = pd.concat([pd.DataFrame(img_reshape),predict],axis=1)\n",
    "\n",
    "nrows = 4\n",
    "ncols = 10\n",
    "fig, axes = plt.subplots(nrows=nrows, ncols=ncols)\n",
    "fig.set_size_inches((16, 6))\n",
    "\n",
    "for j in range(300):\n",
    "    i = 0\n",
    "    for idx in r[r[\"predict\"] == j].sample(nrows * ncols).index:\n",
    "        axes[i // ncols][i % ncols].set_title(str(idx))\n",
    "        axes[i // ncols][i % ncols].imshow(trainingImages[idx])\n",
    "        i+=1\n",
    "    fig.tight_layout()\n",
    "    plt.savefig('res_1105573/sample_' + str(j) + '.png')"
   ]
  },
  {
   "cell_type": "code",
   "execution_count": null,
   "metadata": {},
   "outputs": [],
   "source": []
  }
 ],
 "metadata": {
  "kernelspec": {
   "display_name": "Python 3",
   "language": "python",
   "name": "python3"
  },
  "language_info": {
   "codemirror_mode": {
    "name": "ipython",
    "version": 3
   },
   "file_extension": ".py",
   "mimetype": "text/x-python",
   "name": "python",
   "nbconvert_exporter": "python",
   "pygments_lexer": "ipython3",
   "version": "3.6.8"
  }
 },
 "nbformat": 4,
 "nbformat_minor": 2
}
