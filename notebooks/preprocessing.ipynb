{
 "cells": [
  {
   "cell_type": "code",
   "execution_count": 1,
   "metadata": {},
   "outputs": [],
   "source": [
    "%matplotlib inline\n",
    "import pandas as pd\n",
    "import cv2\n",
    "import numpy as np\n",
    "from matplotlib import pyplot as plt\n",
    "\n",
    "df = pd.read_csv(\"data/22800_SELECT_t___FROM_data_data_t.csv\",header=None,index_col=0)\n",
    "df = df.rename(columns={0:\"no\", 1: \"CAPTDATA\", 2: \"CAPTIMAGE\",3: \"timestamp\"})"
   ]
  },
  {
   "cell_type": "code",
   "execution_count": 2,
   "metadata": {
    "scrolled": true
   },
   "outputs": [
    {
     "name": "stdout",
     "output_type": "stream",
     "text": [
      "<class 'pandas.core.frame.DataFrame'>\n",
      "Int64Index: 22800 entries, 1 to 22815\n",
      "Data columns (total 3 columns):\n",
      "CAPTDATA     22800 non-null object\n",
      "CAPTIMAGE    22800 non-null object\n",
      "timestamp    22800 non-null object\n",
      "dtypes: object(3)\n",
      "memory usage: 712.5+ KB\n"
     ]
    }
   ],
   "source": [
    "df.info()"
   ]
  },
  {
   "cell_type": "code",
   "execution_count": 3,
   "metadata": {},
   "outputs": [
    {
     "data": {
      "text/html": [
       "<div>\n",
       "<style scoped>\n",
       "    .dataframe tbody tr th:only-of-type {\n",
       "        vertical-align: middle;\n",
       "    }\n",
       "\n",
       "    .dataframe tbody tr th {\n",
       "        vertical-align: top;\n",
       "    }\n",
       "\n",
       "    .dataframe thead th {\n",
       "        text-align: right;\n",
       "    }\n",
       "</style>\n",
       "<table border=\"1\" class=\"dataframe\">\n",
       "  <thead>\n",
       "    <tr style=\"text-align: right;\">\n",
       "      <th></th>\n",
       "      <th>CAPTDATA</th>\n",
       "      <th>CAPTIMAGE</th>\n",
       "      <th>timestamp</th>\n",
       "    </tr>\n",
       "    <tr>\n",
       "      <th>0</th>\n",
       "      <th></th>\n",
       "      <th></th>\n",
       "      <th></th>\n",
       "    </tr>\n",
       "  </thead>\n",
       "  <tbody>\n",
       "    <tr>\n",
       "      <td>1662</td>\n",
       "      <td>/B8atneD5qTSWJQUyov4AA==</td>\n",
       "      <td>0x89504E470D0A1A0A0000000D49484452000001180000...</td>\n",
       "      <td>2019-11-03 16:11:15</td>\n",
       "    </tr>\n",
       "    <tr>\n",
       "      <td>6400</td>\n",
       "      <td>FOiiBF2wYSqZUrwd46qouw==</td>\n",
       "      <td>0x89504E470D0A1A0A0000000D49484452000001180000...</td>\n",
       "      <td>2019-11-03 16:23:00</td>\n",
       "    </tr>\n",
       "    <tr>\n",
       "      <td>18385</td>\n",
       "      <td>HHhuuO5FvoyluaN0WfPxgA==</td>\n",
       "      <td>0x89504E470D0A1A0A0000000D49484452000001180000...</td>\n",
       "      <td>2019-11-03 16:48:43</td>\n",
       "    </tr>\n",
       "    <tr>\n",
       "      <td>14615</td>\n",
       "      <td>IXFiPEqueMnl4bNf/mnoHQ==</td>\n",
       "      <td>0x89504E470D0A1A0A0000000D49484452000001180000...</td>\n",
       "      <td>2019-11-03 16:40:32</td>\n",
       "    </tr>\n",
       "    <tr>\n",
       "      <td>22137</td>\n",
       "      <td>0xU8vGerf3r2VRvI8YEaig==</td>\n",
       "      <td>0x89504E470D0A1A0A0000000D49484452000001180000...</td>\n",
       "      <td>2019-11-03 16:56:51</td>\n",
       "    </tr>\n",
       "  </tbody>\n",
       "</table>\n",
       "</div>"
      ],
      "text/plain": [
       "                       CAPTDATA  \\\n",
       "0                                 \n",
       "1662   /B8atneD5qTSWJQUyov4AA==   \n",
       "6400   FOiiBF2wYSqZUrwd46qouw==   \n",
       "18385  HHhuuO5FvoyluaN0WfPxgA==   \n",
       "14615  IXFiPEqueMnl4bNf/mnoHQ==   \n",
       "22137  0xU8vGerf3r2VRvI8YEaig==   \n",
       "\n",
       "                                               CAPTIMAGE            timestamp  \n",
       "0                                                                              \n",
       "1662   0x89504E470D0A1A0A0000000D49484452000001180000...  2019-11-03 16:11:15  \n",
       "6400   0x89504E470D0A1A0A0000000D49484452000001180000...  2019-11-03 16:23:00  \n",
       "18385  0x89504E470D0A1A0A0000000D49484452000001180000...  2019-11-03 16:48:43  \n",
       "14615  0x89504E470D0A1A0A0000000D49484452000001180000...  2019-11-03 16:40:32  \n",
       "22137  0x89504E470D0A1A0A0000000D49484452000001180000...  2019-11-03 16:56:51  "
      ]
     },
     "execution_count": 3,
     "metadata": {},
     "output_type": "execute_result"
    }
   ],
   "source": [
    "df.sample(5)"
   ]
  },
  {
   "cell_type": "code",
   "execution_count": 4,
   "metadata": {},
   "outputs": [],
   "source": [
    "def alpha_to_gray(img):\n",
    "    alpha_channel = img[:, :, 3]\n",
    "    _, mask = cv2.threshold(alpha_channel, 128, 255, cv2.THRESH_BINARY)  # binarize mask\n",
    "    color = img[:, :, :3]\n",
    "    img = cv2.bitwise_not(cv2.bitwise_not(color, mask=mask))\n",
    "    return cv2.cvtColor(img, cv2.COLOR_BGR2GRAY)"
   ]
  },
  {
   "cell_type": "code",
   "execution_count": 5,
   "metadata": {},
   "outputs": [],
   "source": [
    "def preprocess(data):\n",
    "    data = bytes.fromhex(data[2:])\n",
    "    img = cv2.imdecode( np.asarray(bytearray(data), dtype=np.uint8), cv2.IMREAD_UNCHANGED )\n",
    "    img = alpha_to_gray(img)\n",
    "    kernel = np.ones((3, 3), np.uint8)\n",
    "    img = cv2.dilate(img, kernel, iterations=1)\n",
    "    img = cv2.medianBlur(img, 3)\n",
    "    kernel = np.ones((4, 4), np.uint8)\n",
    "    img = cv2.erode(img, kernel, iterations=1)\n",
    "#     plt.imshow(img)\n",
    "    return img"
   ]
  },
  {
   "cell_type": "code",
   "execution_count": 6,
   "metadata": {},
   "outputs": [],
   "source": [
    "df[\"IMAGE\"] = df[\"CAPTIMAGE\"].apply(preprocess)"
   ]
  },
  {
   "cell_type": "code",
   "execution_count": 7,
   "metadata": {},
   "outputs": [],
   "source": [
    "def bounding(gray):\n",
    "#     data = bytes.fromhex(df[\"CAPTIMAGE\"][1][2:])\n",
    "#     image = cv2.imdecode( np.asarray(bytearray(data), dtype=np.uint8), cv2.IMREAD_UNCHANGED )\n",
    "\n",
    "#     alpha_channel = image[:, :, 3]\n",
    "#     _, mask = cv2.threshold(alpha_channel, 128, 255, cv2.THRESH_BINARY)  # binarize mask\n",
    "#     color = image[:, :, :3]\n",
    "#     src = cv2.bitwise_not(cv2.bitwise_not(color, mask=mask))\n",
    "\n",
    "    ret, binary = cv2.threshold(gray, 127, 255, cv2.THRESH_BINARY)\n",
    "    binary = cv2.bitwise_not(binary)\n",
    "\n",
    "    contours, hierachy = cv2.findContours(binary, cv2.RETR_EXTERNAL , cv2.CHAIN_APPROX_NONE)\n",
    "\n",
    "    ans = []\n",
    "    for h, tcnt in enumerate(contours):\n",
    "        x,y,w,h = cv2.boundingRect(tcnt)\n",
    "        if h < 20:\n",
    "            continue\n",
    "        if 50 < w < 100: # 2개가 붙어 있는 경우\n",
    "            ans.append([x,y,w//2+10,h])\n",
    "            ans.append([x+(w//2)-10,y,w//2+10,h])\n",
    "            continue\n",
    "#         cv2.rectangle(src,(x,y),(x+w,y+h),(255,0,0),1)\n",
    "        ans.append([x,y,w,h])\n",
    "    return ans\n",
    "    # cv2.destroyAllWindows()"
   ]
  },
  {
   "cell_type": "code",
   "execution_count": 8,
   "metadata": {},
   "outputs": [],
   "source": [
    "df[\"bounding\"] = df[\"IMAGE\"].apply(bounding)"
   ]
  },
  {
   "cell_type": "code",
   "execution_count": 9,
   "metadata": {},
   "outputs": [],
   "source": [
    "def draw_bounding(idx):\n",
    "    CAPTIMAGE = df[\"CAPTIMAGE\"][idx]\n",
    "    bounding = df[\"bounding\"][idx]\n",
    "    \n",
    "    data = bytes.fromhex(CAPTIMAGE[2:])\n",
    "    image = cv2.imdecode( np.asarray(bytearray(data), dtype=np.uint8), cv2.IMREAD_UNCHANGED )\n",
    "\n",
    "    alpha_channel = image[:, :, 3]\n",
    "    _, mask = cv2.threshold(alpha_channel, 128, 255, cv2.THRESH_BINARY)  # binarize mask\n",
    "    color = image[:, :, :3]\n",
    "    src = cv2.bitwise_not(cv2.bitwise_not(color, mask=mask))\n",
    "\n",
    "    for x,y,w,h in bounding:\n",
    "#         print(x,y,w,h)\n",
    "        cv2.rectangle(src,(x,y),(x+w,y+h),(255,0,0),1)\n",
    "    return src"
   ]
  },
  {
   "cell_type": "code",
   "execution_count": 10,
   "metadata": {},
   "outputs": [
    {
     "data": {
      "image/png": "[encoded data removed]",
      "text/plain": [
       "<matplotlib.figure.Figure at 0x7f3cd036ad30>"
      ]
     },
     "metadata": {
      "needs_background": "light"
     },
     "output_type": "display_data"
    }
   ],
   "source": [
    "import random\n",
    "\n",
    "nrows = 4\n",
    "ncols = 4\n",
    "fig, axes = plt.subplots(nrows=nrows, ncols=ncols)\n",
    "fig.set_size_inches((16, 6)) \n",
    "for i in range(nrows):\n",
    "    for j in range(ncols):\n",
    "        idx = random.randrange(20,22800)\n",
    "        axes[i][j].set_title(str(idx))\n",
    "        axes[i][j].imshow(draw_bounding(idx))\n",
    "fig.tight_layout()\n",
    "plt.savefig('sample.png')\n",
    "plt.show()"
   ]
  },
  {
   "cell_type": "code",
   "execution_count": null,
   "metadata": {},
   "outputs": [],
   "source": []
  }
 ],
 "metadata": {
  "kernelspec": {
   "display_name": "Python 3",
   "language": "python",
   "name": "python3"
  },
  "language_info": {
   "codemirror_mode": {
    "name": "ipython",
    "version": 3
   },
   "file_extension": ".py",
   "mimetype": "text/x-python",
   "name": "python",
   "nbconvert_exporter": "python",
   "pygments_lexer": "ipython3",
   "version": "3.6.8"
  }
 },
 "nbformat": 4,
 "nbformat_minor": 2
}
